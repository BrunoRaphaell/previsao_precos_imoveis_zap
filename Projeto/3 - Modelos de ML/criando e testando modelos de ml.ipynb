{
 "cells": [
  {
   "cell_type": "markdown",
   "metadata": {},
   "source": [
    "# Modelos de ML"
   ]
  },
  {
   "cell_type": "code",
   "execution_count": 1,
   "metadata": {},
   "outputs": [],
   "source": [
    "import pandas as pd\n",
    "import numpy as np\n",
    "\n",
    "from sklearn.model_selection import train_test_split, cross_val_score\n",
    "from sklearn.linear_model import LinearRegression\n",
    "from sklearn.tree import DecisionTreeRegressor\n",
    "from sklearn.ensemble import RandomForestRegressor\n",
    "from sklearn import metrics"
   ]
  },
  {
   "cell_type": "code",
   "execution_count": 2,
   "metadata": {},
   "outputs": [
    {
     "data": {
      "text/html": [
       "<div>\n",
       "<style scoped>\n",
       "    .dataframe tbody tr th:only-of-type {\n",
       "        vertical-align: middle;\n",
       "    }\n",
       "\n",
       "    .dataframe tbody tr th {\n",
       "        vertical-align: top;\n",
       "    }\n",
       "\n",
       "    .dataframe thead th {\n",
       "        text-align: right;\n",
       "    }\n",
       "</style>\n",
       "<table border=\"1\" class=\"dataframe\">\n",
       "  <thead>\n",
       "    <tr style=\"text-align: right;\">\n",
       "      <th></th>\n",
       "      <th>usableAreas</th>\n",
       "      <th>bedrooms</th>\n",
       "      <th>bathrooms</th>\n",
       "      <th>parkingSpaces</th>\n",
       "      <th>suites</th>\n",
       "      <th>yearlyIptu</th>\n",
       "      <th>monthlyCondoFee</th>\n",
       "      <th>price</th>\n",
       "      <th>unitTypes_APARTMENT</th>\n",
       "      <th>unitTypes_BUILDING</th>\n",
       "      <th>...</th>\n",
       "      <th>unitTypes_KITNET</th>\n",
       "      <th>unitTypes_LOFT</th>\n",
       "      <th>unitTypes_PENTHOUSE</th>\n",
       "      <th>unitTypes_RESIDENTIAL_ALLOTMENT_LAND</th>\n",
       "      <th>unitTypes_RESIDENTIAL_BUILDING</th>\n",
       "      <th>unitTypes_TWO_STORY_HOUSE</th>\n",
       "      <th>unitTypes_VILLAGE_HOUSE</th>\n",
       "      <th>zone_Zona Norte</th>\n",
       "      <th>zone_Zona Oeste</th>\n",
       "      <th>zone_Zona Sul</th>\n",
       "    </tr>\n",
       "  </thead>\n",
       "  <tbody>\n",
       "    <tr>\n",
       "      <th>0</th>\n",
       "      <td>5.017280</td>\n",
       "      <td>0.000000</td>\n",
       "      <td>0.000000</td>\n",
       "      <td>0.000000</td>\n",
       "      <td>0.000000</td>\n",
       "      <td>0.000000</td>\n",
       "      <td>0.000000</td>\n",
       "      <td>8.160804</td>\n",
       "      <td>0</td>\n",
       "      <td>0</td>\n",
       "      <td>...</td>\n",
       "      <td>0</td>\n",
       "      <td>0</td>\n",
       "      <td>0</td>\n",
       "      <td>1</td>\n",
       "      <td>0</td>\n",
       "      <td>0</td>\n",
       "      <td>0</td>\n",
       "      <td>0</td>\n",
       "      <td>1</td>\n",
       "      <td>0</td>\n",
       "    </tr>\n",
       "    <tr>\n",
       "      <th>1</th>\n",
       "      <td>3.761200</td>\n",
       "      <td>1.098612</td>\n",
       "      <td>0.693147</td>\n",
       "      <td>0.000000</td>\n",
       "      <td>0.000000</td>\n",
       "      <td>4.615121</td>\n",
       "      <td>5.993961</td>\n",
       "      <td>9.825580</td>\n",
       "      <td>1</td>\n",
       "      <td>0</td>\n",
       "      <td>...</td>\n",
       "      <td>0</td>\n",
       "      <td>0</td>\n",
       "      <td>0</td>\n",
       "      <td>0</td>\n",
       "      <td>0</td>\n",
       "      <td>0</td>\n",
       "      <td>0</td>\n",
       "      <td>0</td>\n",
       "      <td>0</td>\n",
       "      <td>0</td>\n",
       "    </tr>\n",
       "    <tr>\n",
       "      <th>2</th>\n",
       "      <td>3.871201</td>\n",
       "      <td>1.098612</td>\n",
       "      <td>1.098612</td>\n",
       "      <td>0.000000</td>\n",
       "      <td>0.693147</td>\n",
       "      <td>5.247024</td>\n",
       "      <td>6.214608</td>\n",
       "      <td>9.680406</td>\n",
       "      <td>1</td>\n",
       "      <td>0</td>\n",
       "      <td>...</td>\n",
       "      <td>0</td>\n",
       "      <td>0</td>\n",
       "      <td>0</td>\n",
       "      <td>0</td>\n",
       "      <td>0</td>\n",
       "      <td>0</td>\n",
       "      <td>0</td>\n",
       "      <td>0</td>\n",
       "      <td>0</td>\n",
       "      <td>0</td>\n",
       "    </tr>\n",
       "    <tr>\n",
       "      <th>3</th>\n",
       "      <td>3.761200</td>\n",
       "      <td>1.098612</td>\n",
       "      <td>0.693147</td>\n",
       "      <td>0.000000</td>\n",
       "      <td>0.000000</td>\n",
       "      <td>4.615121</td>\n",
       "      <td>5.993961</td>\n",
       "      <td>9.705098</td>\n",
       "      <td>1</td>\n",
       "      <td>0</td>\n",
       "      <td>...</td>\n",
       "      <td>0</td>\n",
       "      <td>0</td>\n",
       "      <td>0</td>\n",
       "      <td>0</td>\n",
       "      <td>0</td>\n",
       "      <td>0</td>\n",
       "      <td>0</td>\n",
       "      <td>0</td>\n",
       "      <td>0</td>\n",
       "      <td>0</td>\n",
       "    </tr>\n",
       "    <tr>\n",
       "      <th>4</th>\n",
       "      <td>3.737670</td>\n",
       "      <td>1.098612</td>\n",
       "      <td>0.693147</td>\n",
       "      <td>0.693147</td>\n",
       "      <td>0.000000</td>\n",
       "      <td>0.000000</td>\n",
       "      <td>0.000000</td>\n",
       "      <td>9.852247</td>\n",
       "      <td>1</td>\n",
       "      <td>0</td>\n",
       "      <td>...</td>\n",
       "      <td>0</td>\n",
       "      <td>0</td>\n",
       "      <td>0</td>\n",
       "      <td>0</td>\n",
       "      <td>0</td>\n",
       "      <td>0</td>\n",
       "      <td>0</td>\n",
       "      <td>0</td>\n",
       "      <td>1</td>\n",
       "      <td>0</td>\n",
       "    </tr>\n",
       "  </tbody>\n",
       "</table>\n",
       "<p>5 rows × 25 columns</p>\n",
       "</div>"
      ],
      "text/plain": [
       "   usableAreas  bedrooms  bathrooms  parkingSpaces    suites  yearlyIptu  \\\n",
       "0     5.017280  0.000000   0.000000       0.000000  0.000000    0.000000   \n",
       "1     3.761200  1.098612   0.693147       0.000000  0.000000    4.615121   \n",
       "2     3.871201  1.098612   1.098612       0.000000  0.693147    5.247024   \n",
       "3     3.761200  1.098612   0.693147       0.000000  0.000000    4.615121   \n",
       "4     3.737670  1.098612   0.693147       0.693147  0.000000    0.000000   \n",
       "\n",
       "   monthlyCondoFee     price  unitTypes_APARTMENT  unitTypes_BUILDING  ...  \\\n",
       "0         0.000000  8.160804                    0                   0  ...   \n",
       "1         5.993961  9.825580                    1                   0  ...   \n",
       "2         6.214608  9.680406                    1                   0  ...   \n",
       "3         5.993961  9.705098                    1                   0  ...   \n",
       "4         0.000000  9.852247                    1                   0  ...   \n",
       "\n",
       "   unitTypes_KITNET  unitTypes_LOFT  unitTypes_PENTHOUSE  \\\n",
       "0                 0               0                    0   \n",
       "1                 0               0                    0   \n",
       "2                 0               0                    0   \n",
       "3                 0               0                    0   \n",
       "4                 0               0                    0   \n",
       "\n",
       "   unitTypes_RESIDENTIAL_ALLOTMENT_LAND  unitTypes_RESIDENTIAL_BUILDING  \\\n",
       "0                                     1                               0   \n",
       "1                                     0                               0   \n",
       "2                                     0                               0   \n",
       "3                                     0                               0   \n",
       "4                                     0                               0   \n",
       "\n",
       "   unitTypes_TWO_STORY_HOUSE  unitTypes_VILLAGE_HOUSE  zone_Zona Norte  \\\n",
       "0                          0                        0                0   \n",
       "1                          0                        0                0   \n",
       "2                          0                        0                0   \n",
       "3                          0                        0                0   \n",
       "4                          0                        0                0   \n",
       "\n",
       "   zone_Zona Oeste  zone_Zona Sul  \n",
       "0                1              0  \n",
       "1                0              0  \n",
       "2                0              0  \n",
       "3                0              0  \n",
       "4                1              0  \n",
       "\n",
       "[5 rows x 25 columns]"
      ]
     },
     "execution_count": 2,
     "metadata": {},
     "output_type": "execute_result"
    }
   ],
   "source": [
    "# Lendo a base de dados com as variáveis dummies\n",
    "\n",
    "dados = pd.read_csv('../../dados/dados_OneHotEncoder.csv')\n",
    "dados.head()"
   ]
  },
  {
   "cell_type": "markdown",
   "metadata": {},
   "source": [
    "## Dividindo em treino e teste"
   ]
  },
  {
   "cell_type": "code",
   "execution_count": 3,
   "metadata": {},
   "outputs": [],
   "source": [
    "X = dados.drop('price', axis=1)\n",
    "y = dados['price']"
   ]
  },
  {
   "cell_type": "code",
   "execution_count": 4,
   "metadata": {},
   "outputs": [],
   "source": [
    "SEED = 42\n",
    "\n",
    "X_train, X_test, y_train, y_test = train_test_split(X, y, test_size=0.3, random_state=SEED, )"
   ]
  },
  {
   "cell_type": "markdown",
   "metadata": {},
   "source": [
    "## Regressão linear"
   ]
  },
  {
   "cell_type": "code",
   "execution_count": 5,
   "metadata": {},
   "outputs": [
    {
     "name": "stderr",
     "output_type": "stream",
     "text": [
      "/home/bruno/anaconda3/envs/data_science/lib/python3.9/site-packages/statsmodels/tsa/base/tsa_model.py:7: FutureWarning: pandas.Int64Index is deprecated and will be removed from pandas in a future version. Use pandas.Index with the appropriate dtype instead.\n",
      "  from pandas import (to_datetime, Int64Index, DatetimeIndex, Period,\n",
      "/home/bruno/anaconda3/envs/data_science/lib/python3.9/site-packages/statsmodels/tsa/base/tsa_model.py:7: FutureWarning: pandas.Float64Index is deprecated and will be removed from pandas in a future version. Use pandas.Index with the appropriate dtype instead.\n",
      "  from pandas import (to_datetime, Int64Index, DatetimeIndex, Period,\n",
      "/home/bruno/anaconda3/envs/data_science/lib/python3.9/site-packages/statsmodels/tsa/tsatools.py:142: FutureWarning: In a future version of pandas all arguments of concat except for the argument 'objs' will be keyword-only.\n",
      "  x = pd.concat(x[::order], 1)\n"
     ]
    },
    {
     "data": {
      "text/html": [
       "<div>\n",
       "<style scoped>\n",
       "    .dataframe tbody tr th:only-of-type {\n",
       "        vertical-align: middle;\n",
       "    }\n",
       "\n",
       "    .dataframe tbody tr th {\n",
       "        vertical-align: top;\n",
       "    }\n",
       "\n",
       "    .dataframe thead th {\n",
       "        text-align: right;\n",
       "    }\n",
       "</style>\n",
       "<table border=\"1\" class=\"dataframe\">\n",
       "  <thead>\n",
       "    <tr style=\"text-align: right;\">\n",
       "      <th></th>\n",
       "      <th>const</th>\n",
       "      <th>usableAreas</th>\n",
       "      <th>bedrooms</th>\n",
       "      <th>bathrooms</th>\n",
       "      <th>parkingSpaces</th>\n",
       "      <th>suites</th>\n",
       "      <th>yearlyIptu</th>\n",
       "      <th>monthlyCondoFee</th>\n",
       "      <th>unitTypes_APARTMENT</th>\n",
       "      <th>unitTypes_BUILDING</th>\n",
       "      <th>...</th>\n",
       "      <th>unitTypes_KITNET</th>\n",
       "      <th>unitTypes_LOFT</th>\n",
       "      <th>unitTypes_PENTHOUSE</th>\n",
       "      <th>unitTypes_RESIDENTIAL_ALLOTMENT_LAND</th>\n",
       "      <th>unitTypes_RESIDENTIAL_BUILDING</th>\n",
       "      <th>unitTypes_TWO_STORY_HOUSE</th>\n",
       "      <th>unitTypes_VILLAGE_HOUSE</th>\n",
       "      <th>zone_Zona Norte</th>\n",
       "      <th>zone_Zona Oeste</th>\n",
       "      <th>zone_Zona Sul</th>\n",
       "    </tr>\n",
       "  </thead>\n",
       "  <tbody>\n",
       "    <tr>\n",
       "      <th>919</th>\n",
       "      <td>1.0</td>\n",
       "      <td>3.891820</td>\n",
       "      <td>1.098612</td>\n",
       "      <td>0.693147</td>\n",
       "      <td>0.000000</td>\n",
       "      <td>0.000000</td>\n",
       "      <td>0.000000</td>\n",
       "      <td>0.000000</td>\n",
       "      <td>1</td>\n",
       "      <td>0</td>\n",
       "      <td>...</td>\n",
       "      <td>0</td>\n",
       "      <td>0</td>\n",
       "      <td>0</td>\n",
       "      <td>0</td>\n",
       "      <td>0</td>\n",
       "      <td>0</td>\n",
       "      <td>0</td>\n",
       "      <td>1</td>\n",
       "      <td>0</td>\n",
       "      <td>0</td>\n",
       "    </tr>\n",
       "    <tr>\n",
       "      <th>55028</th>\n",
       "      <td>1.0</td>\n",
       "      <td>6.908755</td>\n",
       "      <td>1.609438</td>\n",
       "      <td>1.609438</td>\n",
       "      <td>1.609438</td>\n",
       "      <td>1.609438</td>\n",
       "      <td>7.601402</td>\n",
       "      <td>7.666222</td>\n",
       "      <td>0</td>\n",
       "      <td>0</td>\n",
       "      <td>...</td>\n",
       "      <td>0</td>\n",
       "      <td>0</td>\n",
       "      <td>0</td>\n",
       "      <td>0</td>\n",
       "      <td>0</td>\n",
       "      <td>0</td>\n",
       "      <td>0</td>\n",
       "      <td>0</td>\n",
       "      <td>1</td>\n",
       "      <td>0</td>\n",
       "    </tr>\n",
       "    <tr>\n",
       "      <th>7555</th>\n",
       "      <td>1.0</td>\n",
       "      <td>4.465908</td>\n",
       "      <td>1.098612</td>\n",
       "      <td>0.693147</td>\n",
       "      <td>0.693147</td>\n",
       "      <td>1.098612</td>\n",
       "      <td>7.117206</td>\n",
       "      <td>6.741701</td>\n",
       "      <td>1</td>\n",
       "      <td>0</td>\n",
       "      <td>...</td>\n",
       "      <td>0</td>\n",
       "      <td>0</td>\n",
       "      <td>0</td>\n",
       "      <td>0</td>\n",
       "      <td>0</td>\n",
       "      <td>0</td>\n",
       "      <td>0</td>\n",
       "      <td>0</td>\n",
       "      <td>1</td>\n",
       "      <td>0</td>\n",
       "    </tr>\n",
       "    <tr>\n",
       "      <th>26610</th>\n",
       "      <td>1.0</td>\n",
       "      <td>5.003946</td>\n",
       "      <td>1.386294</td>\n",
       "      <td>1.609438</td>\n",
       "      <td>1.098612</td>\n",
       "      <td>1.098612</td>\n",
       "      <td>0.693147</td>\n",
       "      <td>0.693147</td>\n",
       "      <td>1</td>\n",
       "      <td>0</td>\n",
       "      <td>...</td>\n",
       "      <td>0</td>\n",
       "      <td>0</td>\n",
       "      <td>0</td>\n",
       "      <td>0</td>\n",
       "      <td>0</td>\n",
       "      <td>0</td>\n",
       "      <td>0</td>\n",
       "      <td>0</td>\n",
       "      <td>1</td>\n",
       "      <td>0</td>\n",
       "    </tr>\n",
       "    <tr>\n",
       "      <th>9426</th>\n",
       "      <td>1.0</td>\n",
       "      <td>4.709530</td>\n",
       "      <td>1.386294</td>\n",
       "      <td>0.693147</td>\n",
       "      <td>1.098612</td>\n",
       "      <td>0.000000</td>\n",
       "      <td>7.244942</td>\n",
       "      <td>5.860786</td>\n",
       "      <td>1</td>\n",
       "      <td>0</td>\n",
       "      <td>...</td>\n",
       "      <td>0</td>\n",
       "      <td>0</td>\n",
       "      <td>0</td>\n",
       "      <td>0</td>\n",
       "      <td>0</td>\n",
       "      <td>0</td>\n",
       "      <td>0</td>\n",
       "      <td>1</td>\n",
       "      <td>0</td>\n",
       "      <td>0</td>\n",
       "    </tr>\n",
       "    <tr>\n",
       "      <th>...</th>\n",
       "      <td>...</td>\n",
       "      <td>...</td>\n",
       "      <td>...</td>\n",
       "      <td>...</td>\n",
       "      <td>...</td>\n",
       "      <td>...</td>\n",
       "      <td>...</td>\n",
       "      <td>...</td>\n",
       "      <td>...</td>\n",
       "      <td>...</td>\n",
       "      <td>...</td>\n",
       "      <td>...</td>\n",
       "      <td>...</td>\n",
       "      <td>...</td>\n",
       "      <td>...</td>\n",
       "      <td>...</td>\n",
       "      <td>...</td>\n",
       "      <td>...</td>\n",
       "      <td>...</td>\n",
       "      <td>...</td>\n",
       "      <td>...</td>\n",
       "    </tr>\n",
       "    <tr>\n",
       "      <th>44732</th>\n",
       "      <td>1.0</td>\n",
       "      <td>5.605802</td>\n",
       "      <td>1.609438</td>\n",
       "      <td>0.693147</td>\n",
       "      <td>1.386294</td>\n",
       "      <td>1.098612</td>\n",
       "      <td>6.498282</td>\n",
       "      <td>7.744570</td>\n",
       "      <td>0</td>\n",
       "      <td>0</td>\n",
       "      <td>...</td>\n",
       "      <td>0</td>\n",
       "      <td>0</td>\n",
       "      <td>1</td>\n",
       "      <td>0</td>\n",
       "      <td>0</td>\n",
       "      <td>0</td>\n",
       "      <td>0</td>\n",
       "      <td>0</td>\n",
       "      <td>1</td>\n",
       "      <td>0</td>\n",
       "    </tr>\n",
       "    <tr>\n",
       "      <th>54343</th>\n",
       "      <td>1.0</td>\n",
       "      <td>6.418365</td>\n",
       "      <td>1.609438</td>\n",
       "      <td>2.079442</td>\n",
       "      <td>1.609438</td>\n",
       "      <td>1.609438</td>\n",
       "      <td>9.893488</td>\n",
       "      <td>8.505323</td>\n",
       "      <td>1</td>\n",
       "      <td>0</td>\n",
       "      <td>...</td>\n",
       "      <td>0</td>\n",
       "      <td>0</td>\n",
       "      <td>0</td>\n",
       "      <td>0</td>\n",
       "      <td>0</td>\n",
       "      <td>0</td>\n",
       "      <td>0</td>\n",
       "      <td>0</td>\n",
       "      <td>1</td>\n",
       "      <td>0</td>\n",
       "    </tr>\n",
       "    <tr>\n",
       "      <th>38158</th>\n",
       "      <td>1.0</td>\n",
       "      <td>5.398163</td>\n",
       "      <td>1.609438</td>\n",
       "      <td>1.386294</td>\n",
       "      <td>1.098612</td>\n",
       "      <td>0.693147</td>\n",
       "      <td>5.303305</td>\n",
       "      <td>5.860786</td>\n",
       "      <td>0</td>\n",
       "      <td>0</td>\n",
       "      <td>...</td>\n",
       "      <td>0</td>\n",
       "      <td>0</td>\n",
       "      <td>0</td>\n",
       "      <td>0</td>\n",
       "      <td>0</td>\n",
       "      <td>0</td>\n",
       "      <td>0</td>\n",
       "      <td>0</td>\n",
       "      <td>1</td>\n",
       "      <td>0</td>\n",
       "    </tr>\n",
       "    <tr>\n",
       "      <th>860</th>\n",
       "      <td>1.0</td>\n",
       "      <td>5.579730</td>\n",
       "      <td>0.000000</td>\n",
       "      <td>0.000000</td>\n",
       "      <td>0.000000</td>\n",
       "      <td>0.000000</td>\n",
       "      <td>0.000000</td>\n",
       "      <td>4.852030</td>\n",
       "      <td>0</td>\n",
       "      <td>0</td>\n",
       "      <td>...</td>\n",
       "      <td>0</td>\n",
       "      <td>0</td>\n",
       "      <td>0</td>\n",
       "      <td>1</td>\n",
       "      <td>0</td>\n",
       "      <td>0</td>\n",
       "      <td>0</td>\n",
       "      <td>0</td>\n",
       "      <td>1</td>\n",
       "      <td>0</td>\n",
       "    </tr>\n",
       "    <tr>\n",
       "      <th>15795</th>\n",
       "      <td>1.0</td>\n",
       "      <td>4.394449</td>\n",
       "      <td>1.386294</td>\n",
       "      <td>1.098612</td>\n",
       "      <td>0.693147</td>\n",
       "      <td>0.693147</td>\n",
       "      <td>4.615121</td>\n",
       "      <td>6.552508</td>\n",
       "      <td>1</td>\n",
       "      <td>0</td>\n",
       "      <td>...</td>\n",
       "      <td>0</td>\n",
       "      <td>0</td>\n",
       "      <td>0</td>\n",
       "      <td>0</td>\n",
       "      <td>0</td>\n",
       "      <td>0</td>\n",
       "      <td>0</td>\n",
       "      <td>0</td>\n",
       "      <td>1</td>\n",
       "      <td>0</td>\n",
       "    </tr>\n",
       "  </tbody>\n",
       "</table>\n",
       "<p>38615 rows × 25 columns</p>\n",
       "</div>"
      ],
      "text/plain": [
       "       const  usableAreas  bedrooms  bathrooms  parkingSpaces    suites  \\\n",
       "919      1.0     3.891820  1.098612   0.693147       0.000000  0.000000   \n",
       "55028    1.0     6.908755  1.609438   1.609438       1.609438  1.609438   \n",
       "7555     1.0     4.465908  1.098612   0.693147       0.693147  1.098612   \n",
       "26610    1.0     5.003946  1.386294   1.609438       1.098612  1.098612   \n",
       "9426     1.0     4.709530  1.386294   0.693147       1.098612  0.000000   \n",
       "...      ...          ...       ...        ...            ...       ...   \n",
       "44732    1.0     5.605802  1.609438   0.693147       1.386294  1.098612   \n",
       "54343    1.0     6.418365  1.609438   2.079442       1.609438  1.609438   \n",
       "38158    1.0     5.398163  1.609438   1.386294       1.098612  0.693147   \n",
       "860      1.0     5.579730  0.000000   0.000000       0.000000  0.000000   \n",
       "15795    1.0     4.394449  1.386294   1.098612       0.693147  0.693147   \n",
       "\n",
       "       yearlyIptu  monthlyCondoFee  unitTypes_APARTMENT  unitTypes_BUILDING  \\\n",
       "919      0.000000         0.000000                    1                   0   \n",
       "55028    7.601402         7.666222                    0                   0   \n",
       "7555     7.117206         6.741701                    1                   0   \n",
       "26610    0.693147         0.693147                    1                   0   \n",
       "9426     7.244942         5.860786                    1                   0   \n",
       "...           ...              ...                  ...                 ...   \n",
       "44732    6.498282         7.744570                    0                   0   \n",
       "54343    9.893488         8.505323                    1                   0   \n",
       "38158    5.303305         5.860786                    0                   0   \n",
       "860      0.000000         4.852030                    0                   0   \n",
       "15795    4.615121         6.552508                    1                   0   \n",
       "\n",
       "       ...  unitTypes_KITNET  unitTypes_LOFT  unitTypes_PENTHOUSE  \\\n",
       "919    ...                 0               0                    0   \n",
       "55028  ...                 0               0                    0   \n",
       "7555   ...                 0               0                    0   \n",
       "26610  ...                 0               0                    0   \n",
       "9426   ...                 0               0                    0   \n",
       "...    ...               ...             ...                  ...   \n",
       "44732  ...                 0               0                    1   \n",
       "54343  ...                 0               0                    0   \n",
       "38158  ...                 0               0                    0   \n",
       "860    ...                 0               0                    0   \n",
       "15795  ...                 0               0                    0   \n",
       "\n",
       "       unitTypes_RESIDENTIAL_ALLOTMENT_LAND  unitTypes_RESIDENTIAL_BUILDING  \\\n",
       "919                                       0                               0   \n",
       "55028                                     0                               0   \n",
       "7555                                      0                               0   \n",
       "26610                                     0                               0   \n",
       "9426                                      0                               0   \n",
       "...                                     ...                             ...   \n",
       "44732                                     0                               0   \n",
       "54343                                     0                               0   \n",
       "38158                                     0                               0   \n",
       "860                                       1                               0   \n",
       "15795                                     0                               0   \n",
       "\n",
       "       unitTypes_TWO_STORY_HOUSE  unitTypes_VILLAGE_HOUSE  zone_Zona Norte  \\\n",
       "919                            0                        0                1   \n",
       "55028                          0                        0                0   \n",
       "7555                           0                        0                0   \n",
       "26610                          0                        0                0   \n",
       "9426                           0                        0                1   \n",
       "...                          ...                      ...              ...   \n",
       "44732                          0                        0                0   \n",
       "54343                          0                        0                0   \n",
       "38158                          0                        0                0   \n",
       "860                            0                        0                0   \n",
       "15795                          0                        0                0   \n",
       "\n",
       "       zone_Zona Oeste  zone_Zona Sul  \n",
       "919                  0              0  \n",
       "55028                1              0  \n",
       "7555                 1              0  \n",
       "26610                1              0  \n",
       "9426                 0              0  \n",
       "...                ...            ...  \n",
       "44732                1              0  \n",
       "54343                1              0  \n",
       "38158                1              0  \n",
       "860                  1              0  \n",
       "15795                1              0  \n",
       "\n",
       "[38615 rows x 25 columns]"
      ]
     },
     "execution_count": 5,
     "metadata": {},
     "output_type": "execute_result"
    }
   ],
   "source": [
    "import statsmodels.api as sm\n",
    "\n",
    "X_train_constante = sm.add_constant(X_train)\n",
    "X_train_constante"
   ]
  },
  {
   "cell_type": "code",
   "execution_count": 7,
   "metadata": {},
   "outputs": [
    {
     "name": "stderr",
     "output_type": "stream",
     "text": [
      "/home/bruno/anaconda3/envs/data_science/lib/python3.9/site-packages/statsmodels/tsa/tsatools.py:142: FutureWarning: In a future version of pandas all arguments of concat except for the argument 'objs' will be keyword-only.\n",
      "  x = pd.concat(x[::order], 1)\n"
     ]
    },
    {
     "name": "stdout",
     "output_type": "stream",
     "text": [
      "<bound method RegressionResults.summary of <statsmodels.regression.linear_model.OLSResults object at 0x7f69cb28cca0>>\n"
     ]
    }
   ],
   "source": [
    "import statsmodels.api as sm\n",
    "\n",
    "X_train_constante = sm.add_constant(X_train)\n",
    "modelo_statsmodels = sm.OLS(y_train, X_train_constante, hasconst=True).fit()\n",
    "print(modelo_statsmodels.summary)"
   ]
  },
  {
   "cell_type": "code",
   "execution_count": 8,
   "metadata": {},
   "outputs": [
    {
     "name": "stdout",
     "output_type": "stream",
     "text": [
      "                            OLS Regression Results                            \n",
      "==============================================================================\n",
      "Dep. Variable:                  price   R-squared:                       0.808\n",
      "Model:                            OLS   Adj. R-squared:                  0.808\n",
      "Method:                 Least Squares   F-statistic:                     6783.\n",
      "Date:                Thu, 02 Jun 2022   Prob (F-statistic):               0.00\n",
      "Time:                        00:40:55   Log-Likelihood:                -20007.\n",
      "No. Observations:               38615   AIC:                         4.006e+04\n",
      "Df Residuals:                   38590   BIC:                         4.028e+04\n",
      "Df Model:                          24                                         \n",
      "Covariance Type:            nonrobust                                         \n",
      "========================================================================================================\n",
      "                                           coef    std err          t      P>|t|      [0.025      0.975]\n",
      "--------------------------------------------------------------------------------------------------------\n",
      "const                                    8.5621      0.073    117.604      0.000       8.419       8.705\n",
      "usableAreas                              0.7655      0.006    128.244      0.000       0.754       0.777\n",
      "bedrooms                                -0.0134      0.013     -1.070      0.285      -0.038       0.011\n",
      "bathrooms                                0.1394      0.009     15.626      0.000       0.122       0.157\n",
      "parkingSpaces                            0.2705      0.007     38.926      0.000       0.257       0.284\n",
      "suites                                   0.3810      0.007     55.610      0.000       0.368       0.394\n",
      "yearlyIptu                               0.0196      0.001     19.851      0.000       0.018       0.022\n",
      "monthlyCondoFee                          0.0084      0.001      7.078      0.000       0.006       0.011\n",
      "unitTypes_APARTMENT                      0.6751      0.065     10.353      0.000       0.547       0.803\n",
      "unitTypes_BUILDING                      -0.4690      0.412     -1.139      0.255      -1.276       0.338\n",
      "unitTypes_CONDOMINIUM                    0.3215      0.066      4.904      0.000       0.193       0.450\n",
      "unitTypes_COUNTRY_HOUSE                 -0.6117      0.193     -3.175      0.001      -0.989      -0.234\n",
      "unitTypes_FARM                          -0.8200      0.133     -6.154      0.000      -1.081      -0.559\n",
      "unitTypes_FLAT                           1.0691      0.071     15.152      0.000       0.931       1.207\n",
      "unitTypes_HOME                           0.2467      0.065      3.782      0.000       0.119       0.375\n",
      "unitTypes_KITNET                         0.8273      0.086      9.642      0.000       0.659       0.995\n",
      "unitTypes_LOFT                           0.8804      0.193      4.562      0.000       0.502       1.259\n",
      "unitTypes_PENTHOUSE                      0.5593      0.065      8.548      0.000       0.431       0.688\n",
      "unitTypes_RESIDENTIAL_ALLOTMENT_LAND    -0.2340      0.068     -3.417      0.001      -0.368      -0.100\n",
      "unitTypes_RESIDENTIAL_BUILDING           0.2902      0.412      0.705      0.481      -0.517       1.097\n",
      "unitTypes_TWO_STORY_HOUSE                0.7397      0.295      2.510      0.012       0.162       1.317\n",
      "unitTypes_VILLAGE_HOUSE                  0.5936      0.102      5.824      0.000       0.394       0.793\n",
      "zone_Zona Norte                         -0.1798      0.022     -8.085      0.000      -0.223      -0.136\n",
      "zone_Zona Oeste                         -0.0816      0.022     -3.705      0.000      -0.125      -0.038\n",
      "zone_Zona Sul                            0.6786      0.022     30.801      0.000       0.635       0.722\n",
      "==============================================================================\n",
      "Omnibus:                     6178.019   Durbin-Watson:                   1.998\n",
      "Prob(Omnibus):                  0.000   Jarque-Bera (JB):            99542.156\n",
      "Skew:                          -0.244   Prob(JB):                         0.00\n",
      "Kurtosis:                      10.850   Cond. No.                     2.07e+03\n",
      "==============================================================================\n",
      "\n",
      "Notes:\n",
      "[1] Standard Errors assume that the covariance matrix of the errors is correctly specified.\n",
      "[2] The condition number is large, 2.07e+03. This might indicate that there are\n",
      "strong multicollinearity or other numerical problems.\n"
     ]
    }
   ],
   "source": [
    "# step wise regression -> Sugestão do João\n",
    "\n",
    "modelo_statsmodels = sm.OLS(y_train, X_train_constante, hasconst=True).fit()\n",
    "print(modelo_statsmodels.summary())"
   ]
  },
  {
   "cell_type": "code",
   "execution_count": 9,
   "metadata": {},
   "outputs": [],
   "source": [
    "reg_linear = LinearRegression(n_jobs=-1).fit(X_train, y_train)"
   ]
  },
  {
   "cell_type": "markdown",
   "metadata": {},
   "source": [
    "Criando uma função para obter as métricas dos modelos de regressão como um DataFrame."
   ]
  },
  {
   "cell_type": "code",
   "execution_count": 10,
   "metadata": {},
   "outputs": [],
   "source": [
    "# Criando um dicionário com as métricas para usar em um dataframe\n",
    "\n",
    "def df_metrics_regression(modelo, X_test, y_test):\n",
    "    mae = metrics.mean_absolute_error(y_test, modelo.predict(X_test))\n",
    "    mse = metrics.mean_squared_error(y_test, modelo.predict(X_test))\n",
    "    rmse = np.sqrt(mse)\n",
    "    r2 = metrics.r2_score(y_test, modelo.predict(X_test))\n",
    "    return pd.DataFrame({'MAE': [mae], 'MSE': [mse], 'RMSE': [rmse], 'R2': [r2]})"
   ]
  },
  {
   "cell_type": "code",
   "execution_count": 11,
   "metadata": {},
   "outputs": [
    {
     "data": {
      "text/html": [
       "<div>\n",
       "<style scoped>\n",
       "    .dataframe tbody tr th:only-of-type {\n",
       "        vertical-align: middle;\n",
       "    }\n",
       "\n",
       "    .dataframe tbody tr th {\n",
       "        vertical-align: top;\n",
       "    }\n",
       "\n",
       "    .dataframe thead th {\n",
       "        text-align: right;\n",
       "    }\n",
       "</style>\n",
       "<table border=\"1\" class=\"dataframe\">\n",
       "  <thead>\n",
       "    <tr style=\"text-align: right;\">\n",
       "      <th></th>\n",
       "      <th>MAE</th>\n",
       "      <th>MSE</th>\n",
       "      <th>RMSE</th>\n",
       "      <th>R2</th>\n",
       "    </tr>\n",
       "  </thead>\n",
       "  <tbody>\n",
       "    <tr>\n",
       "      <th>0</th>\n",
       "      <td>0.309014</td>\n",
       "      <td>0.168874</td>\n",
       "      <td>0.410943</td>\n",
       "      <td>0.805057</td>\n",
       "    </tr>\n",
       "  </tbody>\n",
       "</table>\n",
       "</div>"
      ],
      "text/plain": [
       "        MAE       MSE      RMSE        R2\n",
       "0  0.309014  0.168874  0.410943  0.805057"
      ]
     },
     "execution_count": 11,
     "metadata": {},
     "output_type": "execute_result"
    }
   ],
   "source": [
    "metricas_reg_linear = df_metrics_regression(reg_linear, X_test, y_test)\n",
    "metricas_reg_linear"
   ]
  },
  {
   "cell_type": "markdown",
   "metadata": {},
   "source": [
    "## Regressor da Árvore de Decisão\n"
   ]
  },
  {
   "cell_type": "markdown",
   "metadata": {},
   "source": [
    "Vamos utilizar a validação cruzada para avaliarmos obtermos um valor mais generalista para o nosso modelo.\n",
    "\n",
    "A utilização do KFold com shuffle foi nescessária pois o conjunto de dados está ordernado em ordem crescente de preço e ao fazer a validação cruzada há problemas pois a parte utilzada para teste não aprendeu a generalizar para aquele fold.\n",
    "\n",
    "A métrica padrão retornada pelo `.DecisionTreeRegressor()` é o R2."
   ]
  },
  {
   "cell_type": "code",
   "execution_count": 12,
   "metadata": {},
   "outputs": [
    {
     "data": {
      "text/plain": [
       "<AxesSubplot:ylabel='price'>"
      ]
     },
     "execution_count": 12,
     "metadata": {},
     "output_type": "execute_result"
    },
    {
     "data": {
      "image/png": "[encoded data removed]",
      "text/plain": [
       "<Figure size 432x288 with 1 Axes>"
      ]
     },
     "metadata": {
      "needs_background": "light"
     },
     "output_type": "display_data"
    }
   ],
   "source": [
    "import seaborn as sns\n",
    "sns.lineplot(y=y,x=y.index)"
   ]
  },
  {
   "cell_type": "code",
   "execution_count": 11,
   "metadata": {},
   "outputs": [
    {
     "data": {
      "text/plain": [
       "array([ -6.09979016, -13.53397417, -13.22732151, -10.16344499,\n",
       "        -9.02142035])"
      ]
     },
     "execution_count": 11,
     "metadata": {},
     "output_type": "execute_result"
    }
   ],
   "source": [
    "from sklearn.model_selection import KFold\n",
    "\n",
    "regressor = DecisionTreeRegressor(random_state=SEED, max_depth=3)\n",
    "cross_val_score(regressor, X, y, cv=5)"
   ]
  },
  {
   "cell_type": "code",
   "execution_count": 14,
   "metadata": {},
   "outputs": [
    {
     "data": {
      "text/plain": [
       "-0.28837169262299056"
      ]
     },
     "execution_count": 14,
     "metadata": {},
     "output_type": "execute_result"
    }
   ],
   "source": [
    "from sklearn.model_selection import KFold\n",
    "\n",
    "kf = KFold(n_splits=5, shuffle=True, random_state=SEED)\n",
    "\n",
    "regressor = DecisionTreeRegressor(random_state=SEED, max_depth=3)\n",
    "cross_val_score(regressor, X_train, y_train, cv=kf, scoring = 'neg_mean_squared_error').mean()"
   ]
  },
  {
   "cell_type": "markdown",
   "metadata": {},
   "source": [
    "Ou seja, dividindo o conjunto de dados em 5 folds e calculando a média dos resultados do R2 obtemos um valor de 0.68.\n",
    "\n",
    "Vamos analisar como o modelo se comporta para o conjunto de dados separados para teste."
   ]
  },
  {
   "cell_type": "code",
   "execution_count": 13,
   "metadata": {},
   "outputs": [
    {
     "data": {
      "text/plain": [
       "-0.5349454883307956"
      ]
     },
     "execution_count": 13,
     "metadata": {},
     "output_type": "execute_result"
    }
   ],
   "source": [
    "from sklearn.model_selection import KFold\n",
    "\n",
    "kf = KFold(n_splits=5, shuffle=True, random_state=SEED)\n",
    "\n",
    "regressor = DecisionTreeRegressor(random_state=SEED, max_depth=3)\n",
    "cross_val_score(regressor, X, y, cv=kf, scoring = 'neg_root_mean_squared_error').mean()"
   ]
  },
  {
   "cell_type": "code",
   "execution_count": 15,
   "metadata": {},
   "outputs": [
    {
     "data": {
      "text/plain": [
       "DecisionTreeRegressor(max_depth=3, random_state=42)"
      ]
     },
     "execution_count": 15,
     "metadata": {},
     "output_type": "execute_result"
    }
   ],
   "source": [
    "regressor.fit(X_train, y_train)"
   ]
  },
  {
   "cell_type": "code",
   "execution_count": 16,
   "metadata": {},
   "outputs": [
    {
     "data": {
      "text/html": [
       "<div><div id=ff25c0d3-64fd-46d2-b38c-c691a6eeb718 style=\"display:none; background-color:#9D6CFF; color:white; width:200px; height:30px; padding-left:5px; border-radius:4px; flex-direction:row; justify-content:space-around; align-items:center;\" onmouseover=\"this.style.backgroundColor='#BA9BF8'\" onmouseout=\"this.style.backgroundColor='#9D6CFF'\" onclick=\"window.commands?.execute('create-mitosheet-from-dataframe-output');\">See Full Dataframe in Mito</div> <script> if (window.commands.hasCommand('create-mitosheet-from-dataframe-output')) document.getElementById('ff25c0d3-64fd-46d2-b38c-c691a6eeb718').style.display = 'flex' </script> <table border=\"1\" class=\"dataframe\">\n",
       "  <thead>\n",
       "    <tr style=\"text-align: right;\">\n",
       "      <th></th>\n",
       "      <th>MAE</th>\n",
       "      <th>MSE</th>\n",
       "      <th>RMSE</th>\n",
       "      <th>R2</th>\n",
       "    </tr>\n",
       "  </thead>\n",
       "  <tbody>\n",
       "    <tr>\n",
       "      <th>0</th>\n",
       "      <td>0.408237</td>\n",
       "      <td>0.28767</td>\n",
       "      <td>0.536349</td>\n",
       "      <td>0.681724</td>\n",
       "    </tr>\n",
       "  </tbody>\n",
       "</table></div>"
      ],
      "text/plain": [
       "        MAE      MSE      RMSE        R2\n",
       "0  0.408237  0.28767  0.536349  0.681724"
      ]
     },
     "execution_count": 16,
     "metadata": {},
     "output_type": "execute_result"
    }
   ],
   "source": [
    "metricas_dt_reg = df_metrics_regression(regressor, X_test, y_test)\n",
    "metricas_dt_reg"
   ]
  },
  {
   "cell_type": "markdown",
   "metadata": {},
   "source": [
    "## Regressor de Floresta Aleatória"
   ]
  },
  {
   "cell_type": "markdown",
   "metadata": {},
   "source": [
    "Realizando a mesma análise para o modelo de árvore aleatória:"
   ]
  },
  {
   "cell_type": "code",
   "execution_count": 17,
   "metadata": {},
   "outputs": [
    {
     "data": {
      "text/plain": [
       "0.7074251415820962"
      ]
     },
     "execution_count": 17,
     "metadata": {},
     "output_type": "execute_result"
    }
   ],
   "source": [
    "from sklearn.model_selection import KFold\n",
    "\n",
    "kf = KFold(n_splits=5, shuffle=True, random_state=SEED)\n",
    "\n",
    "rf_reg = RandomForestRegressor(max_depth=3, random_state=SEED)\n",
    "cross_val_score(rf_reg, X, y, cv=kf).mean()"
   ]
  },
  {
   "cell_type": "code",
   "execution_count": 18,
   "metadata": {},
   "outputs": [
    {
     "data": {
      "text/plain": [
       "RandomForestRegressor(max_depth=3, random_state=42)"
      ]
     },
     "execution_count": 18,
     "metadata": {},
     "output_type": "execute_result"
    }
   ],
   "source": [
    "rf_reg.fit(X_train, y_train)"
   ]
  },
  {
   "cell_type": "code",
   "execution_count": 19,
   "metadata": {},
   "outputs": [
    {
     "data": {
      "text/html": [
       "<div><div id=38d7b0a4-b7f6-43a7-a34e-99c545df943d style=\"display:none; background-color:#9D6CFF; color:white; width:200px; height:30px; padding-left:5px; border-radius:4px; flex-direction:row; justify-content:space-around; align-items:center;\" onmouseover=\"this.style.backgroundColor='#BA9BF8'\" onmouseout=\"this.style.backgroundColor='#9D6CFF'\" onclick=\"window.commands?.execute('create-mitosheet-from-dataframe-output');\">See Full Dataframe in Mito</div> <script> if (window.commands.hasCommand('create-mitosheet-from-dataframe-output')) document.getElementById('38d7b0a4-b7f6-43a7-a34e-99c545df943d').style.display = 'flex' </script> <table border=\"1\" class=\"dataframe\">\n",
       "  <thead>\n",
       "    <tr style=\"text-align: right;\">\n",
       "      <th></th>\n",
       "      <th>MAE</th>\n",
       "      <th>MSE</th>\n",
       "      <th>RMSE</th>\n",
       "      <th>R2</th>\n",
       "    </tr>\n",
       "  </thead>\n",
       "  <tbody>\n",
       "    <tr>\n",
       "      <th>0</th>\n",
       "      <td>0.389545</td>\n",
       "      <td>0.264735</td>\n",
       "      <td>0.514524</td>\n",
       "      <td>0.707099</td>\n",
       "    </tr>\n",
       "  </tbody>\n",
       "</table></div>"
      ],
      "text/plain": [
       "        MAE       MSE      RMSE        R2\n",
       "0  0.389545  0.264735  0.514524  0.707099"
      ]
     },
     "execution_count": 19,
     "metadata": {},
     "output_type": "execute_result"
    }
   ],
   "source": [
    "metricas_rf_reg = df_metrics_regression(rf_reg, X_test, y_test)\n",
    "metricas_rf_reg"
   ]
  },
  {
   "cell_type": "markdown",
   "metadata": {},
   "source": [
    "## Analisando os resultados dos modelos:"
   ]
  },
  {
   "cell_type": "code",
   "execution_count": 24,
   "metadata": {},
   "outputs": [
    {
     "data": {
      "text/html": [
       "<div><div id=6948461a-43bb-417a-92f8-ee713afeb525 style=\"display:none; background-color:#9D6CFF; color:white; width:200px; height:30px; padding-left:5px; border-radius:4px; flex-direction:row; justify-content:space-around; align-items:center;\" onmouseover=\"this.style.backgroundColor='#BA9BF8'\" onmouseout=\"this.style.backgroundColor='#9D6CFF'\" onclick=\"window.commands?.execute('create-mitosheet-from-dataframe-output');\">See Full Dataframe in Mito</div> <script> if (window.commands.hasCommand('create-mitosheet-from-dataframe-output')) document.getElementById('6948461a-43bb-417a-92f8-ee713afeb525').style.display = 'flex' </script> <table border=\"1\" class=\"dataframe\">\n",
       "  <thead>\n",
       "    <tr style=\"text-align: right;\">\n",
       "      <th></th>\n",
       "      <th>Linear Regression</th>\n",
       "      <th>Decision Tree</th>\n",
       "      <th>Random Forest</th>\n",
       "    </tr>\n",
       "  </thead>\n",
       "  <tbody>\n",
       "    <tr>\n",
       "      <th>MAE</th>\n",
       "      <td>0.315061</td>\n",
       "      <td>0.408237</td>\n",
       "      <td>0.389545</td>\n",
       "    </tr>\n",
       "    <tr>\n",
       "      <th>MSE</th>\n",
       "      <td>0.181675</td>\n",
       "      <td>0.287670</td>\n",
       "      <td>0.264735</td>\n",
       "    </tr>\n",
       "    <tr>\n",
       "      <th>RMSE</th>\n",
       "      <td>0.426233</td>\n",
       "      <td>0.536349</td>\n",
       "      <td>0.514524</td>\n",
       "    </tr>\n",
       "    <tr>\n",
       "      <th>R2</th>\n",
       "      <td>0.798996</td>\n",
       "      <td>0.681724</td>\n",
       "      <td>0.707099</td>\n",
       "    </tr>\n",
       "  </tbody>\n",
       "</table></div>"
      ],
      "text/plain": [
       "      Linear Regression  Decision Tree  Random Forest\n",
       "MAE            0.315061       0.408237       0.389545\n",
       "MSE            0.181675       0.287670       0.264735\n",
       "RMSE           0.426233       0.536349       0.514524\n",
       "R2             0.798996       0.681724       0.707099"
      ]
     },
     "execution_count": 24,
     "metadata": {},
     "output_type": "execute_result"
    }
   ],
   "source": [
    "metricas_modelos = pd.concat([metricas_reg_linear.T, metricas_dt_reg.T, metricas_rf_reg.T], axis=1)\n",
    "metricas_modelos.columns = ['Linear Regression', 'Decision Tree', 'Random Forest']\n",
    "metricas_modelos.head()"
   ]
  },
  {
   "cell_type": "markdown",
   "metadata": {},
   "source": [
    "Logo o modelo que apresentou melhor desempenho foi o modelo de regressão linear. "
   ]
  },
  {
   "cell_type": "markdown",
   "metadata": {},
   "source": [
    "## Próximos passos:\n",
    "\n",
    "* Otimização dos hiperparâmetros dos modelos utilizados;\n",
    "* Testar a biblioteca [PyOD](https://pyod.readthedocs.io/en/latest/) para tratamentos de outliers;\n",
    "* Testar o [RobustScaler](https://scikit-learn.org/stable/modules/generated/sklearn.preprocessing.RobustScaler.html) para transformação dos dados já que esse é mais robusto a outliers;\n",
    "* Testamos 3 modelos, mas será que existe algum melhor? fazer uso do [Pycaret](https://pycaret.org/) para testar outros modelos de regressão e entender os modelos utilizados!\n",
    "* Utilizar métodos ensemble para combinar os modelos de regressão.\n",
    "* Tentar fazer o deploy do melhor modelo otimizado.\n",
    "* Criar um README (Em andamento)\n"
   ]
  }
 ],
 "metadata": {
  "interpreter": {
   "hash": "3024a6a36618bfafb2a5544bc059754fc981d2770ed20bd37bf9fdcd441e44fe"
  },
  "kernelspec": {
   "display_name": "Python 3.9.12 ('data_science')",
   "language": "python",
   "name": "python3"
  },
  "language_info": {
   "codemirror_mode": {
    "name": "ipython",
    "version": 3
   },
   "file_extension": ".py",
   "mimetype": "text/x-python",
   "name": "python",
   "nbconvert_exporter": "python",
   "pygments_lexer": "ipython3",
   "version": "3.9.12"
  },
  "orig_nbformat": 4
 },
 "nbformat": 4,
 "nbformat_minor": 2
}
