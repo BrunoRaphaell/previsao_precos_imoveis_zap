{
 "cells": [
  {
   "cell_type": "markdown",
   "metadata": {},
   "source": [
    "# Modelos de ML"
   ]
  },
  {
   "cell_type": "code",
   "execution_count": 1,
   "metadata": {},
   "outputs": [
    {
     "name": "stderr",
     "output_type": "stream",
     "text": [
      "<frozen importlib._bootstrap>:219: RuntimeWarning: scipy._lib.messagestream.MessageStream size changed, may indicate binary incompatibility. Expected 56 from C header, got 64 from PyObject\n"
     ]
    }
   ],
   "source": [
    "import pandas as pd\n",
    "import numpy as np\n",
    "\n",
    "from sklearn.model_selection import train_test_split, cross_val_score\n",
    "from sklearn.linear_model import LinearRegression\n",
    "from sklearn.tree import DecisionTreeRegressor\n",
    "from sklearn.ensemble import RandomForestRegressor\n",
    "from sklearn import metrics"
   ]
  },
  {
   "cell_type": "code",
   "execution_count": 2,
   "metadata": {},
   "outputs": [
    {
     "data": {
      "text/html": [
       "<div><div id=0a0b3afe-90e0-4c15-a7d4-487e5a18e5f1 style=\"display:none; background-color:#9D6CFF; color:white; width:200px; height:30px; padding-left:5px; border-radius:4px; flex-direction:row; justify-content:space-around; align-items:center;\" onmouseover=\"this.style.backgroundColor='#BA9BF8'\" onmouseout=\"this.style.backgroundColor='#9D6CFF'\" onclick=\"window.commands?.execute('create-mitosheet-from-dataframe-output');\">See Full Dataframe in Mito</div> <script> if (window.commands.hasCommand('create-mitosheet-from-dataframe-output')) document.getElementById('0a0b3afe-90e0-4c15-a7d4-487e5a18e5f1').style.display = 'flex' </script> <table border=\"1\" class=\"dataframe\">\n",
       "  <thead>\n",
       "    <tr style=\"text-align: right;\">\n",
       "      <th></th>\n",
       "      <th>usableAreas</th>\n",
       "      <th>bedrooms</th>\n",
       "      <th>bathrooms</th>\n",
       "      <th>parkingSpaces</th>\n",
       "      <th>suites</th>\n",
       "      <th>yearlyIptu</th>\n",
       "      <th>monthlyCondoFee</th>\n",
       "      <th>price</th>\n",
       "      <th>unitTypes_ALLOTMENT_LAND</th>\n",
       "      <th>unitTypes_APARTMENT</th>\n",
       "      <th>...</th>\n",
       "      <th>unitTypes_RESIDENTIAL_BUILDING</th>\n",
       "      <th>unitTypes_SHED_DEPOSIT_WAREHOUSE</th>\n",
       "      <th>unitTypes_TWO_STORY_HOUSE</th>\n",
       "      <th>unitTypes_VILLAGE_HOUSE</th>\n",
       "      <th>usageTypes_COMMERCIAL</th>\n",
       "      <th>usageTypes_RESIDENTIAL</th>\n",
       "      <th>zone_Zona Central</th>\n",
       "      <th>zone_Zona Norte</th>\n",
       "      <th>zone_Zona Oeste</th>\n",
       "      <th>zone_Zona Sul</th>\n",
       "    </tr>\n",
       "  </thead>\n",
       "  <tbody>\n",
       "    <tr>\n",
       "      <th>0</th>\n",
       "      <td>5.017280</td>\n",
       "      <td>0.000000</td>\n",
       "      <td>0.000000</td>\n",
       "      <td>0.000000</td>\n",
       "      <td>0.000000</td>\n",
       "      <td>0.000000</td>\n",
       "      <td>0.000000</td>\n",
       "      <td>8.160804</td>\n",
       "      <td>0</td>\n",
       "      <td>0</td>\n",
       "      <td>...</td>\n",
       "      <td>0</td>\n",
       "      <td>0</td>\n",
       "      <td>0</td>\n",
       "      <td>0</td>\n",
       "      <td>0</td>\n",
       "      <td>1</td>\n",
       "      <td>0</td>\n",
       "      <td>0</td>\n",
       "      <td>1</td>\n",
       "      <td>0</td>\n",
       "    </tr>\n",
       "    <tr>\n",
       "      <th>1</th>\n",
       "      <td>3.761200</td>\n",
       "      <td>1.098612</td>\n",
       "      <td>0.693147</td>\n",
       "      <td>0.000000</td>\n",
       "      <td>0.000000</td>\n",
       "      <td>4.615121</td>\n",
       "      <td>5.993961</td>\n",
       "      <td>9.825580</td>\n",
       "      <td>0</td>\n",
       "      <td>1</td>\n",
       "      <td>...</td>\n",
       "      <td>0</td>\n",
       "      <td>0</td>\n",
       "      <td>0</td>\n",
       "      <td>0</td>\n",
       "      <td>0</td>\n",
       "      <td>1</td>\n",
       "      <td>1</td>\n",
       "      <td>0</td>\n",
       "      <td>0</td>\n",
       "      <td>0</td>\n",
       "    </tr>\n",
       "    <tr>\n",
       "      <th>2</th>\n",
       "      <td>3.871201</td>\n",
       "      <td>1.098612</td>\n",
       "      <td>1.098612</td>\n",
       "      <td>0.000000</td>\n",
       "      <td>0.693147</td>\n",
       "      <td>5.247024</td>\n",
       "      <td>6.214608</td>\n",
       "      <td>9.680406</td>\n",
       "      <td>0</td>\n",
       "      <td>1</td>\n",
       "      <td>...</td>\n",
       "      <td>0</td>\n",
       "      <td>0</td>\n",
       "      <td>0</td>\n",
       "      <td>0</td>\n",
       "      <td>0</td>\n",
       "      <td>1</td>\n",
       "      <td>1</td>\n",
       "      <td>0</td>\n",
       "      <td>0</td>\n",
       "      <td>0</td>\n",
       "    </tr>\n",
       "    <tr>\n",
       "      <th>3</th>\n",
       "      <td>3.761200</td>\n",
       "      <td>1.098612</td>\n",
       "      <td>0.693147</td>\n",
       "      <td>0.000000</td>\n",
       "      <td>0.000000</td>\n",
       "      <td>4.615121</td>\n",
       "      <td>5.993961</td>\n",
       "      <td>9.705098</td>\n",
       "      <td>0</td>\n",
       "      <td>1</td>\n",
       "      <td>...</td>\n",
       "      <td>0</td>\n",
       "      <td>0</td>\n",
       "      <td>0</td>\n",
       "      <td>0</td>\n",
       "      <td>0</td>\n",
       "      <td>1</td>\n",
       "      <td>1</td>\n",
       "      <td>0</td>\n",
       "      <td>0</td>\n",
       "      <td>0</td>\n",
       "    </tr>\n",
       "    <tr>\n",
       "      <th>4</th>\n",
       "      <td>3.737670</td>\n",
       "      <td>1.098612</td>\n",
       "      <td>0.693147</td>\n",
       "      <td>0.693147</td>\n",
       "      <td>0.000000</td>\n",
       "      <td>0.000000</td>\n",
       "      <td>0.000000</td>\n",
       "      <td>9.852247</td>\n",
       "      <td>0</td>\n",
       "      <td>1</td>\n",
       "      <td>...</td>\n",
       "      <td>0</td>\n",
       "      <td>0</td>\n",
       "      <td>0</td>\n",
       "      <td>0</td>\n",
       "      <td>0</td>\n",
       "      <td>1</td>\n",
       "      <td>0</td>\n",
       "      <td>0</td>\n",
       "      <td>1</td>\n",
       "      <td>0</td>\n",
       "    </tr>\n",
       "  </tbody>\n",
       "</table></div>"
      ],
      "text/plain": [
       "   usableAreas  bedrooms  bathrooms  parkingSpaces    suites  yearlyIptu  \\\n",
       "0     5.017280  0.000000   0.000000       0.000000  0.000000    0.000000   \n",
       "1     3.761200  1.098612   0.693147       0.000000  0.000000    4.615121   \n",
       "2     3.871201  1.098612   1.098612       0.000000  0.693147    5.247024   \n",
       "3     3.761200  1.098612   0.693147       0.000000  0.000000    4.615121   \n",
       "4     3.737670  1.098612   0.693147       0.693147  0.000000    0.000000   \n",
       "\n",
       "   monthlyCondoFee     price  unitTypes_ALLOTMENT_LAND  unitTypes_APARTMENT  \\\n",
       "0         0.000000  8.160804                         0                    0   \n",
       "1         5.993961  9.825580                         0                    1   \n",
       "2         6.214608  9.680406                         0                    1   \n",
       "3         5.993961  9.705098                         0                    1   \n",
       "4         0.000000  9.852247                         0                    1   \n",
       "\n",
       "   ...  unitTypes_RESIDENTIAL_BUILDING  unitTypes_SHED_DEPOSIT_WAREHOUSE  \\\n",
       "0  ...                               0                                 0   \n",
       "1  ...                               0                                 0   \n",
       "2  ...                               0                                 0   \n",
       "3  ...                               0                                 0   \n",
       "4  ...                               0                                 0   \n",
       "\n",
       "   unitTypes_TWO_STORY_HOUSE  unitTypes_VILLAGE_HOUSE  usageTypes_COMMERCIAL  \\\n",
       "0                          0                        0                      0   \n",
       "1                          0                        0                      0   \n",
       "2                          0                        0                      0   \n",
       "3                          0                        0                      0   \n",
       "4                          0                        0                      0   \n",
       "\n",
       "   usageTypes_RESIDENTIAL  zone_Zona Central  zone_Zona Norte  \\\n",
       "0                       1                  0                0   \n",
       "1                       1                  1                0   \n",
       "2                       1                  1                0   \n",
       "3                       1                  1                0   \n",
       "4                       1                  0                0   \n",
       "\n",
       "   zone_Zona Oeste  zone_Zona Sul  \n",
       "0                1              0  \n",
       "1                0              0  \n",
       "2                0              0  \n",
       "3                0              0  \n",
       "4                1              0  \n",
       "\n",
       "[5 rows x 37 columns]"
      ]
     },
     "execution_count": 2,
     "metadata": {},
     "output_type": "execute_result"
    }
   ],
   "source": [
    "# Lendo a base de dados com as variáveis dummies\n",
    "\n",
    "dados = pd.read_csv('../../dados/dados_OneHotEncoder.csv')\n",
    "dados.head()"
   ]
  },
  {
   "cell_type": "markdown",
   "metadata": {},
   "source": [
    "## Dividindo em treino e teste"
   ]
  },
  {
   "cell_type": "code",
   "execution_count": 3,
   "metadata": {},
   "outputs": [],
   "source": [
    "X = dados.drop('price', axis=1)\n",
    "y = dados['price']"
   ]
  },
  {
   "cell_type": "code",
   "execution_count": 6,
   "metadata": {},
   "outputs": [],
   "source": [
    "SEED = 42\n",
    "\n",
    "X_train, X_test, y_train, y_test = train_test_split(X, y, test_size=0.3, random_state=SEED, )"
   ]
  },
  {
   "cell_type": "markdown",
   "metadata": {},
   "source": [
    "## Regressão linear"
   ]
  },
  {
   "cell_type": "code",
   "execution_count": 8,
   "metadata": {},
   "outputs": [
    {
     "data": {
      "text/html": [
       "<div><div id=ff14cd53-4508-469d-af18-0d212953937b style=\"display:none; background-color:#9D6CFF; color:white; width:200px; height:30px; padding-left:5px; border-radius:4px; flex-direction:row; justify-content:space-around; align-items:center;\" onmouseover=\"this.style.backgroundColor='#BA9BF8'\" onmouseout=\"this.style.backgroundColor='#9D6CFF'\" onclick=\"window.commands?.execute('create-mitosheet-from-dataframe-output');\">See Full Dataframe in Mito</div> <script> if (window.commands.hasCommand('create-mitosheet-from-dataframe-output')) document.getElementById('ff14cd53-4508-469d-af18-0d212953937b').style.display = 'flex' </script> <table border=\"1\" class=\"dataframe\">\n",
       "  <thead>\n",
       "    <tr style=\"text-align: right;\">\n",
       "      <th></th>\n",
       "      <th>const</th>\n",
       "      <th>usableAreas</th>\n",
       "      <th>bedrooms</th>\n",
       "      <th>bathrooms</th>\n",
       "      <th>parkingSpaces</th>\n",
       "      <th>suites</th>\n",
       "      <th>yearlyIptu</th>\n",
       "      <th>monthlyCondoFee</th>\n",
       "      <th>unitTypes_ALLOTMENT_LAND</th>\n",
       "      <th>unitTypes_APARTMENT</th>\n",
       "      <th>...</th>\n",
       "      <th>unitTypes_RESIDENTIAL_BUILDING</th>\n",
       "      <th>unitTypes_SHED_DEPOSIT_WAREHOUSE</th>\n",
       "      <th>unitTypes_TWO_STORY_HOUSE</th>\n",
       "      <th>unitTypes_VILLAGE_HOUSE</th>\n",
       "      <th>usageTypes_COMMERCIAL</th>\n",
       "      <th>usageTypes_RESIDENTIAL</th>\n",
       "      <th>zone_Zona Central</th>\n",
       "      <th>zone_Zona Norte</th>\n",
       "      <th>zone_Zona Oeste</th>\n",
       "      <th>zone_Zona Sul</th>\n",
       "    </tr>\n",
       "  </thead>\n",
       "  <tbody>\n",
       "    <tr>\n",
       "      <th>30849</th>\n",
       "      <td>1.0</td>\n",
       "      <td>5.351858</td>\n",
       "      <td>1.386294</td>\n",
       "      <td>1.609438</td>\n",
       "      <td>1.098612</td>\n",
       "      <td>1.386294</td>\n",
       "      <td>7.972811</td>\n",
       "      <td>6.720220</td>\n",
       "      <td>0</td>\n",
       "      <td>0</td>\n",
       "      <td>...</td>\n",
       "      <td>0</td>\n",
       "      <td>0</td>\n",
       "      <td>0</td>\n",
       "      <td>0</td>\n",
       "      <td>0</td>\n",
       "      <td>1</td>\n",
       "      <td>0</td>\n",
       "      <td>0</td>\n",
       "      <td>1</td>\n",
       "      <td>0</td>\n",
       "    </tr>\n",
       "    <tr>\n",
       "      <th>16468</th>\n",
       "      <td>1.0</td>\n",
       "      <td>4.477337</td>\n",
       "      <td>1.386294</td>\n",
       "      <td>1.098612</td>\n",
       "      <td>0.693147</td>\n",
       "      <td>0.693147</td>\n",
       "      <td>7.003974</td>\n",
       "      <td>6.660575</td>\n",
       "      <td>0</td>\n",
       "      <td>1</td>\n",
       "      <td>...</td>\n",
       "      <td>0</td>\n",
       "      <td>0</td>\n",
       "      <td>0</td>\n",
       "      <td>0</td>\n",
       "      <td>0</td>\n",
       "      <td>1</td>\n",
       "      <td>0</td>\n",
       "      <td>0</td>\n",
       "      <td>1</td>\n",
       "      <td>0</td>\n",
       "    </tr>\n",
       "    <tr>\n",
       "      <th>7552</th>\n",
       "      <td>1.0</td>\n",
       "      <td>4.343805</td>\n",
       "      <td>1.386294</td>\n",
       "      <td>1.386294</td>\n",
       "      <td>0.693147</td>\n",
       "      <td>0.693147</td>\n",
       "      <td>5.860786</td>\n",
       "      <td>6.478510</td>\n",
       "      <td>0</td>\n",
       "      <td>1</td>\n",
       "      <td>...</td>\n",
       "      <td>0</td>\n",
       "      <td>0</td>\n",
       "      <td>0</td>\n",
       "      <td>0</td>\n",
       "      <td>0</td>\n",
       "      <td>1</td>\n",
       "      <td>0</td>\n",
       "      <td>0</td>\n",
       "      <td>1</td>\n",
       "      <td>0</td>\n",
       "    </tr>\n",
       "    <tr>\n",
       "      <th>53272</th>\n",
       "      <td>1.0</td>\n",
       "      <td>5.811141</td>\n",
       "      <td>1.609438</td>\n",
       "      <td>1.945910</td>\n",
       "      <td>1.386294</td>\n",
       "      <td>1.609438</td>\n",
       "      <td>9.305741</td>\n",
       "      <td>8.268988</td>\n",
       "      <td>0</td>\n",
       "      <td>1</td>\n",
       "      <td>...</td>\n",
       "      <td>0</td>\n",
       "      <td>0</td>\n",
       "      <td>0</td>\n",
       "      <td>0</td>\n",
       "      <td>0</td>\n",
       "      <td>1</td>\n",
       "      <td>0</td>\n",
       "      <td>0</td>\n",
       "      <td>1</td>\n",
       "      <td>0</td>\n",
       "    </tr>\n",
       "    <tr>\n",
       "      <th>31454</th>\n",
       "      <td>1.0</td>\n",
       "      <td>4.787492</td>\n",
       "      <td>1.386294</td>\n",
       "      <td>1.791759</td>\n",
       "      <td>1.098612</td>\n",
       "      <td>1.386294</td>\n",
       "      <td>0.000000</td>\n",
       "      <td>0.000000</td>\n",
       "      <td>0</td>\n",
       "      <td>1</td>\n",
       "      <td>...</td>\n",
       "      <td>0</td>\n",
       "      <td>0</td>\n",
       "      <td>0</td>\n",
       "      <td>0</td>\n",
       "      <td>0</td>\n",
       "      <td>1</td>\n",
       "      <td>0</td>\n",
       "      <td>1</td>\n",
       "      <td>0</td>\n",
       "      <td>0</td>\n",
       "    </tr>\n",
       "    <tr>\n",
       "      <th>...</th>\n",
       "      <td>...</td>\n",
       "      <td>...</td>\n",
       "      <td>...</td>\n",
       "      <td>...</td>\n",
       "      <td>...</td>\n",
       "      <td>...</td>\n",
       "      <td>...</td>\n",
       "      <td>...</td>\n",
       "      <td>...</td>\n",
       "      <td>...</td>\n",
       "      <td>...</td>\n",
       "      <td>...</td>\n",
       "      <td>...</td>\n",
       "      <td>...</td>\n",
       "      <td>...</td>\n",
       "      <td>...</td>\n",
       "      <td>...</td>\n",
       "      <td>...</td>\n",
       "      <td>...</td>\n",
       "      <td>...</td>\n",
       "      <td>...</td>\n",
       "    </tr>\n",
       "    <tr>\n",
       "      <th>54343</th>\n",
       "      <td>1.0</td>\n",
       "      <td>5.874931</td>\n",
       "      <td>1.609438</td>\n",
       "      <td>1.609438</td>\n",
       "      <td>0.693147</td>\n",
       "      <td>1.098612</td>\n",
       "      <td>7.003974</td>\n",
       "      <td>8.160804</td>\n",
       "      <td>0</td>\n",
       "      <td>1</td>\n",
       "      <td>...</td>\n",
       "      <td>0</td>\n",
       "      <td>0</td>\n",
       "      <td>0</td>\n",
       "      <td>0</td>\n",
       "      <td>0</td>\n",
       "      <td>1</td>\n",
       "      <td>0</td>\n",
       "      <td>0</td>\n",
       "      <td>0</td>\n",
       "      <td>1</td>\n",
       "    </tr>\n",
       "    <tr>\n",
       "      <th>38158</th>\n",
       "      <td>1.0</td>\n",
       "      <td>4.574711</td>\n",
       "      <td>1.386294</td>\n",
       "      <td>0.693147</td>\n",
       "      <td>0.000000</td>\n",
       "      <td>1.098612</td>\n",
       "      <td>7.591357</td>\n",
       "      <td>6.857514</td>\n",
       "      <td>0</td>\n",
       "      <td>1</td>\n",
       "      <td>...</td>\n",
       "      <td>0</td>\n",
       "      <td>0</td>\n",
       "      <td>0</td>\n",
       "      <td>0</td>\n",
       "      <td>0</td>\n",
       "      <td>1</td>\n",
       "      <td>0</td>\n",
       "      <td>0</td>\n",
       "      <td>0</td>\n",
       "      <td>1</td>\n",
       "    </tr>\n",
       "    <tr>\n",
       "      <th>860</th>\n",
       "      <td>1.0</td>\n",
       "      <td>3.806662</td>\n",
       "      <td>1.098612</td>\n",
       "      <td>0.693147</td>\n",
       "      <td>0.693147</td>\n",
       "      <td>0.000000</td>\n",
       "      <td>0.000000</td>\n",
       "      <td>0.000000</td>\n",
       "      <td>0</td>\n",
       "      <td>1</td>\n",
       "      <td>...</td>\n",
       "      <td>0</td>\n",
       "      <td>0</td>\n",
       "      <td>0</td>\n",
       "      <td>0</td>\n",
       "      <td>0</td>\n",
       "      <td>1</td>\n",
       "      <td>0</td>\n",
       "      <td>0</td>\n",
       "      <td>1</td>\n",
       "      <td>0</td>\n",
       "    </tr>\n",
       "    <tr>\n",
       "      <th>15795</th>\n",
       "      <td>1.0</td>\n",
       "      <td>4.330733</td>\n",
       "      <td>1.098612</td>\n",
       "      <td>0.693147</td>\n",
       "      <td>0.000000</td>\n",
       "      <td>0.000000</td>\n",
       "      <td>4.744932</td>\n",
       "      <td>3.931826</td>\n",
       "      <td>0</td>\n",
       "      <td>1</td>\n",
       "      <td>...</td>\n",
       "      <td>0</td>\n",
       "      <td>0</td>\n",
       "      <td>0</td>\n",
       "      <td>0</td>\n",
       "      <td>0</td>\n",
       "      <td>1</td>\n",
       "      <td>0</td>\n",
       "      <td>0</td>\n",
       "      <td>0</td>\n",
       "      <td>1</td>\n",
       "    </tr>\n",
       "    <tr>\n",
       "      <th>56422</th>\n",
       "      <td>1.0</td>\n",
       "      <td>5.831882</td>\n",
       "      <td>1.609438</td>\n",
       "      <td>1.098612</td>\n",
       "      <td>1.098612</td>\n",
       "      <td>0.693147</td>\n",
       "      <td>7.496097</td>\n",
       "      <td>8.071219</td>\n",
       "      <td>0</td>\n",
       "      <td>1</td>\n",
       "      <td>...</td>\n",
       "      <td>0</td>\n",
       "      <td>0</td>\n",
       "      <td>0</td>\n",
       "      <td>0</td>\n",
       "      <td>0</td>\n",
       "      <td>1</td>\n",
       "      <td>0</td>\n",
       "      <td>0</td>\n",
       "      <td>0</td>\n",
       "      <td>1</td>\n",
       "    </tr>\n",
       "  </tbody>\n",
       "</table></div>"
      ],
      "text/plain": [
       "       const  usableAreas  bedrooms  bathrooms  parkingSpaces    suites  \\\n",
       "30849    1.0     5.351858  1.386294   1.609438       1.098612  1.386294   \n",
       "16468    1.0     4.477337  1.386294   1.098612       0.693147  0.693147   \n",
       "7552     1.0     4.343805  1.386294   1.386294       0.693147  0.693147   \n",
       "53272    1.0     5.811141  1.609438   1.945910       1.386294  1.609438   \n",
       "31454    1.0     4.787492  1.386294   1.791759       1.098612  1.386294   \n",
       "...      ...          ...       ...        ...            ...       ...   \n",
       "54343    1.0     5.874931  1.609438   1.609438       0.693147  1.098612   \n",
       "38158    1.0     4.574711  1.386294   0.693147       0.000000  1.098612   \n",
       "860      1.0     3.806662  1.098612   0.693147       0.693147  0.000000   \n",
       "15795    1.0     4.330733  1.098612   0.693147       0.000000  0.000000   \n",
       "56422    1.0     5.831882  1.609438   1.098612       1.098612  0.693147   \n",
       "\n",
       "       yearlyIptu  monthlyCondoFee  unitTypes_ALLOTMENT_LAND  \\\n",
       "30849    7.972811         6.720220                         0   \n",
       "16468    7.003974         6.660575                         0   \n",
       "7552     5.860786         6.478510                         0   \n",
       "53272    9.305741         8.268988                         0   \n",
       "31454    0.000000         0.000000                         0   \n",
       "...           ...              ...                       ...   \n",
       "54343    7.003974         8.160804                         0   \n",
       "38158    7.591357         6.857514                         0   \n",
       "860      0.000000         0.000000                         0   \n",
       "15795    4.744932         3.931826                         0   \n",
       "56422    7.496097         8.071219                         0   \n",
       "\n",
       "       unitTypes_APARTMENT  ...  unitTypes_RESIDENTIAL_BUILDING  \\\n",
       "30849                    0  ...                               0   \n",
       "16468                    1  ...                               0   \n",
       "7552                     1  ...                               0   \n",
       "53272                    1  ...                               0   \n",
       "31454                    1  ...                               0   \n",
       "...                    ...  ...                             ...   \n",
       "54343                    1  ...                               0   \n",
       "38158                    1  ...                               0   \n",
       "860                      1  ...                               0   \n",
       "15795                    1  ...                               0   \n",
       "56422                    1  ...                               0   \n",
       "\n",
       "       unitTypes_SHED_DEPOSIT_WAREHOUSE  unitTypes_TWO_STORY_HOUSE  \\\n",
       "30849                                 0                          0   \n",
       "16468                                 0                          0   \n",
       "7552                                  0                          0   \n",
       "53272                                 0                          0   \n",
       "31454                                 0                          0   \n",
       "...                                 ...                        ...   \n",
       "54343                                 0                          0   \n",
       "38158                                 0                          0   \n",
       "860                                   0                          0   \n",
       "15795                                 0                          0   \n",
       "56422                                 0                          0   \n",
       "\n",
       "       unitTypes_VILLAGE_HOUSE  usageTypes_COMMERCIAL  usageTypes_RESIDENTIAL  \\\n",
       "30849                        0                      0                       1   \n",
       "16468                        0                      0                       1   \n",
       "7552                         0                      0                       1   \n",
       "53272                        0                      0                       1   \n",
       "31454                        0                      0                       1   \n",
       "...                        ...                    ...                     ...   \n",
       "54343                        0                      0                       1   \n",
       "38158                        0                      0                       1   \n",
       "860                          0                      0                       1   \n",
       "15795                        0                      0                       1   \n",
       "56422                        0                      0                       1   \n",
       "\n",
       "       zone_Zona Central  zone_Zona Norte  zone_Zona Oeste  zone_Zona Sul  \n",
       "30849                  0                0                1              0  \n",
       "16468                  0                0                1              0  \n",
       "7552                   0                0                1              0  \n",
       "53272                  0                0                1              0  \n",
       "31454                  0                1                0              0  \n",
       "...                  ...              ...              ...            ...  \n",
       "54343                  0                0                0              1  \n",
       "38158                  0                0                0              1  \n",
       "860                    0                0                1              0  \n",
       "15795                  0                0                0              1  \n",
       "56422                  0                0                0              1  \n",
       "\n",
       "[40147 rows x 37 columns]"
      ]
     },
     "execution_count": 8,
     "metadata": {},
     "output_type": "execute_result"
    }
   ],
   "source": [
    "import statsmodels.api as sm\n",
    "\n",
    "X_train_constante = sm.add_constant(X_train)\n",
    "X_train_constante"
   ]
  },
  {
   "cell_type": "code",
   "execution_count": 9,
   "metadata": {},
   "outputs": [
    {
     "name": "stdout",
     "output_type": "stream",
     "text": [
      "                            OLS Regression Results                            \n",
      "==============================================================================\n",
      "Dep. Variable:                  price   R-squared:                       0.810\n",
      "Model:                            OLS   Adj. R-squared:                  0.810\n",
      "Method:                 Least Squares   F-statistic:                     5198.\n",
      "Date:                Thu, 26 May 2022   Prob (F-statistic):               0.00\n",
      "Time:                        00:53:03   Log-Likelihood:                -21362.\n",
      "No. Observations:               40147   AIC:                         4.279e+04\n",
      "Df Residuals:                   40113   BIC:                         4.308e+04\n",
      "Df Model:                          33                                         \n",
      "Covariance Type:            nonrobust                                         \n",
      "========================================================================================================\n",
      "                                           coef    std err          t      P>|t|      [0.025      0.975]\n",
      "--------------------------------------------------------------------------------------------------------\n",
      "const                                    5.0116      0.022    226.085      0.000       4.968       5.055\n",
      "usableAreas                              0.7876      0.005    144.226      0.000       0.777       0.798\n",
      "bedrooms                                -0.0496      0.011     -4.318      0.000      -0.072      -0.027\n",
      "bathrooms                                0.1146      0.008     13.495      0.000       0.098       0.131\n",
      "parkingSpaces                            0.2755      0.007     41.376      0.000       0.262       0.289\n",
      "suites                                   0.3751      0.007     55.651      0.000       0.362       0.388\n",
      "yearlyIptu                               0.0198      0.001     20.253      0.000       0.018       0.022\n",
      "monthlyCondoFee                          0.0105      0.001      8.964      0.000       0.008       0.013\n",
      "unitTypes_ALLOTMENT_LAND                -0.0597      0.069     -0.869      0.385      -0.194       0.075\n",
      "unitTypes_APARTMENT                      0.7015      0.044     15.987      0.000       0.615       0.787\n",
      "unitTypes_BUILDING                       0.0918      0.095      0.969      0.332      -0.094       0.277\n",
      "unitTypes_BUSINESS                       0.3387      0.058      5.824      0.000       0.225       0.453\n",
      "unitTypes_COMMERCIAL_ALLOTMENT_LAND      0.1385      0.097      1.421      0.155      -0.053       0.330\n",
      "unitTypes_COMMERCIAL_BUILDING            0.1183      0.079      1.499      0.134      -0.036       0.273\n",
      "unitTypes_COMMERCIAL_PROPERTY            0.4684      0.076      6.133      0.000       0.319       0.618\n",
      "unitTypes_CONDOMINIUM                    0.3407      0.045      7.607      0.000       0.253       0.429\n",
      "unitTypes_COUNTRY_HOUSE                 -0.1306      0.182     -0.719      0.472      -0.487       0.226\n",
      "unitTypes_FARM                          -0.6880      0.091     -7.601      0.000      -0.865      -0.511\n",
      "unitTypes_FLAT                           1.1347      0.052     21.908      0.000       1.033       1.236\n",
      "unitTypes_HOME                           0.2699      0.044      6.156      0.000       0.184       0.356\n",
      "unitTypes_HOTEL                         -0.9874      0.234     -4.217      0.000      -1.446      -0.528\n",
      "unitTypes_KITNET                         0.9240      0.068     13.660      0.000       0.791       1.057\n",
      "unitTypes_LOFT                           0.9730      0.232      4.198      0.000       0.519       1.427\n",
      "unitTypes_OFFICE                         0.3840      0.054      7.059      0.000       0.277       0.491\n",
      "unitTypes_PARKING_SPACE                 -0.6502      0.398     -1.633      0.102      -1.431       0.130\n",
      "unitTypes_PENTHOUSE                      0.5764      0.044     12.960      0.000       0.489       0.664\n",
      "unitTypes_RESIDENTIAL_ALLOTMENT_LAND    -0.4128      0.054     -7.715      0.000      -0.518      -0.308\n",
      "unitTypes_RESIDENTIAL_BUILDING           0.3499      0.281      1.247      0.212      -0.200       0.900\n",
      "unitTypes_SHED_DEPOSIT_WAREHOUSE        -0.2666      0.082     -3.259      0.001      -0.427      -0.106\n",
      "unitTypes_TWO_STORY_HOUSE                0.7856      0.282      2.783      0.005       0.232       1.339\n",
      "unitTypes_VILLAGE_HOUSE                  0.6114      0.084      7.246      0.000       0.446       0.777\n",
      "usageTypes_COMMERCIAL                    2.6905      0.039     68.248      0.000       2.613       2.768\n",
      "usageTypes_RESIDENTIAL                   2.3211      0.036     64.647      0.000       2.251       2.391\n",
      "zone_Zona Central                        1.1072      0.014     77.888      0.000       1.079       1.135\n",
      "zone_Zona Norte                          0.9879      0.008    129.194      0.000       0.973       1.003\n",
      "zone_Zona Oeste                          1.0873      0.007    150.645      0.000       1.073       1.101\n",
      "zone_Zona Sul                            1.8292      0.008    234.680      0.000       1.814       1.844\n",
      "==============================================================================\n",
      "Omnibus:                     4563.427   Durbin-Watson:                   2.009\n",
      "Prob(Omnibus):                  0.000   Jarque-Bera (JB):            41227.651\n",
      "Skew:                          -0.172   Prob(JB):                         0.00\n",
      "Kurtosis:                       7.953   Cond. No.                     1.05e+16\n",
      "==============================================================================\n",
      "\n",
      "Notes:\n",
      "[1] Standard Errors assume that the covariance matrix of the errors is correctly specified.\n",
      "[2] The smallest eigenvalue is 3.79e-26. This might indicate that there are\n",
      "strong multicollinearity problems or that the design matrix is singular.\n"
     ]
    }
   ],
   "source": [
    "# step wise regression\n",
    "\n",
    "modelo_statsmodels = sm.OLS(y_train, X_train_constante, hasconst=True).fit()\n",
    "print(modelo_statsmodels.summary())"
   ]
  },
  {
   "cell_type": "code",
   "execution_count": 10,
   "metadata": {},
   "outputs": [],
   "source": [
    "reg_linear = LinearRegression(n_jobs=-1).fit(X_train, y_train)"
   ]
  },
  {
   "cell_type": "code",
   "execution_count": 11,
   "metadata": {},
   "outputs": [
    {
     "data": {
      "text/plain": [
       "0.8104592371422159"
      ]
     },
     "execution_count": 11,
     "metadata": {},
     "output_type": "execute_result"
    }
   ],
   "source": [
    "reg_linear.score(X_train, y_train)"
   ]
  },
  {
   "cell_type": "markdown",
   "metadata": {},
   "source": [
    "Criando uma função para obter as métricas dos modelos de regressão como um DataFrame."
   ]
  },
  {
   "cell_type": "code",
   "execution_count": 12,
   "metadata": {},
   "outputs": [],
   "source": [
    "# Criando um dicionário com as métricas para usar em um dataframe\n",
    "\n",
    "def df_metrics_regression(modelo, X_test, y_test):\n",
    "    mae = metrics.mean_absolute_error(y_test, modelo.predict(X_test))\n",
    "    mse = metrics.mean_squared_error(y_test, modelo.predict(X_test))\n",
    "    rmse = np.sqrt(mse)\n",
    "    r2 = metrics.r2_score(y_test, modelo.predict(X_test))\n",
    "    return pd.DataFrame({'MAE': [mae], 'MSE': [mse], 'RMSE': [rmse], 'R2': [r2]})"
   ]
  },
  {
   "cell_type": "code",
   "execution_count": 13,
   "metadata": {},
   "outputs": [
    {
     "data": {
      "text/html": [
       "<div><div id=27be525a-d39b-496c-b4a4-a96193cf7986 style=\"display:none; background-color:#9D6CFF; color:white; width:200px; height:30px; padding-left:5px; border-radius:4px; flex-direction:row; justify-content:space-around; align-items:center;\" onmouseover=\"this.style.backgroundColor='#BA9BF8'\" onmouseout=\"this.style.backgroundColor='#9D6CFF'\" onclick=\"window.commands?.execute('create-mitosheet-from-dataframe-output');\">See Full Dataframe in Mito</div> <script> if (window.commands.hasCommand('create-mitosheet-from-dataframe-output')) document.getElementById('27be525a-d39b-496c-b4a4-a96193cf7986').style.display = 'flex' </script> <table border=\"1\" class=\"dataframe\">\n",
       "  <thead>\n",
       "    <tr style=\"text-align: right;\">\n",
       "      <th></th>\n",
       "      <th>MAE</th>\n",
       "      <th>MSE</th>\n",
       "      <th>RMSE</th>\n",
       "      <th>R2</th>\n",
       "    </tr>\n",
       "  </thead>\n",
       "  <tbody>\n",
       "    <tr>\n",
       "      <th>0</th>\n",
       "      <td>0.315061</td>\n",
       "      <td>0.181675</td>\n",
       "      <td>0.426233</td>\n",
       "      <td>0.798996</td>\n",
       "    </tr>\n",
       "  </tbody>\n",
       "</table></div>"
      ],
      "text/plain": [
       "        MAE       MSE      RMSE        R2\n",
       "0  0.315061  0.181675  0.426233  0.798996"
      ]
     },
     "execution_count": 13,
     "metadata": {},
     "output_type": "execute_result"
    }
   ],
   "source": [
    "metricas_reg_linear = df_metrics_regression(reg_linear, X_test, y_test)\n",
    "metricas_reg_linear"
   ]
  },
  {
   "cell_type": "markdown",
   "metadata": {},
   "source": [
    "## Regressor da Árvore de Decisão\n"
   ]
  },
  {
   "cell_type": "markdown",
   "metadata": {},
   "source": [
    "Vamos utilizar a validação cruzada para avaliarmos obtermos um valor mais generalista para o nosso modelo.\n",
    "\n",
    "A utilização do KFold com shuffle foi nescessária pois o conjunto de dados está ordernado em ordem crescente de preço e ao fazer a validação cruzada há problemas pois a parte utilzada para teste não aprendeu a generalizar para aquele fold.\n",
    "\n",
    "A métrica padrão retornada pelo `.DecisionTreeRegressor()` é o R2."
   ]
  },
  {
   "cell_type": "code",
   "execution_count": 14,
   "metadata": {},
   "outputs": [
    {
     "data": {
      "text/plain": [
       "0.6812426670866323"
      ]
     },
     "execution_count": 14,
     "metadata": {},
     "output_type": "execute_result"
    }
   ],
   "source": [
    "from sklearn.model_selection import KFold\n",
    "\n",
    "kf = KFold(n_splits=5, shuffle=True, random_state=SEED)\n",
    "\n",
    "regressor = DecisionTreeRegressor(random_state=SEED, max_depth=3)\n",
    "cross_val_score(regressor, X, y, cv=kf).mean()"
   ]
  },
  {
   "cell_type": "markdown",
   "metadata": {},
   "source": [
    "Ou seja, dividindo o conjunto de dados em 5 folds e calculando a média dos resultados do R2 obtemos um valor de 0.68.\n",
    "\n",
    "Vamos analisar como o modelo se comporta para o conjunto de dados separados para teste."
   ]
  },
  {
   "cell_type": "code",
   "execution_count": 15,
   "metadata": {},
   "outputs": [
    {
     "data": {
      "text/plain": [
       "DecisionTreeRegressor(max_depth=3, random_state=42)"
      ]
     },
     "execution_count": 15,
     "metadata": {},
     "output_type": "execute_result"
    }
   ],
   "source": [
    "regressor.fit(X_train, y_train)"
   ]
  },
  {
   "cell_type": "code",
   "execution_count": 16,
   "metadata": {},
   "outputs": [
    {
     "data": {
      "text/html": [
       "<div><div id=ff25c0d3-64fd-46d2-b38c-c691a6eeb718 style=\"display:none; background-color:#9D6CFF; color:white; width:200px; height:30px; padding-left:5px; border-radius:4px; flex-direction:row; justify-content:space-around; align-items:center;\" onmouseover=\"this.style.backgroundColor='#BA9BF8'\" onmouseout=\"this.style.backgroundColor='#9D6CFF'\" onclick=\"window.commands?.execute('create-mitosheet-from-dataframe-output');\">See Full Dataframe in Mito</div> <script> if (window.commands.hasCommand('create-mitosheet-from-dataframe-output')) document.getElementById('ff25c0d3-64fd-46d2-b38c-c691a6eeb718').style.display = 'flex' </script> <table border=\"1\" class=\"dataframe\">\n",
       "  <thead>\n",
       "    <tr style=\"text-align: right;\">\n",
       "      <th></th>\n",
       "      <th>MAE</th>\n",
       "      <th>MSE</th>\n",
       "      <th>RMSE</th>\n",
       "      <th>R2</th>\n",
       "    </tr>\n",
       "  </thead>\n",
       "  <tbody>\n",
       "    <tr>\n",
       "      <th>0</th>\n",
       "      <td>0.408237</td>\n",
       "      <td>0.28767</td>\n",
       "      <td>0.536349</td>\n",
       "      <td>0.681724</td>\n",
       "    </tr>\n",
       "  </tbody>\n",
       "</table></div>"
      ],
      "text/plain": [
       "        MAE      MSE      RMSE        R2\n",
       "0  0.408237  0.28767  0.536349  0.681724"
      ]
     },
     "execution_count": 16,
     "metadata": {},
     "output_type": "execute_result"
    }
   ],
   "source": [
    "metricas_dt_reg = df_metrics_regression(regressor, X_test, y_test)\n",
    "metricas_dt_reg"
   ]
  },
  {
   "cell_type": "markdown",
   "metadata": {},
   "source": [
    "## Regressor de Floresta Aleatória"
   ]
  },
  {
   "cell_type": "markdown",
   "metadata": {},
   "source": [
    "Realizando a mesma análise para o modelo de árvore aleatória:"
   ]
  },
  {
   "cell_type": "code",
   "execution_count": 17,
   "metadata": {},
   "outputs": [
    {
     "data": {
      "text/plain": [
       "0.7074251415820962"
      ]
     },
     "execution_count": 17,
     "metadata": {},
     "output_type": "execute_result"
    }
   ],
   "source": [
    "from sklearn.model_selection import KFold\n",
    "\n",
    "kf = KFold(n_splits=5, shuffle=True, random_state=SEED)\n",
    "\n",
    "rf_reg = RandomForestRegressor(max_depth=3, random_state=SEED)\n",
    "cross_val_score(rf_reg, X, y, cv=kf).mean()"
   ]
  },
  {
   "cell_type": "code",
   "execution_count": 18,
   "metadata": {},
   "outputs": [
    {
     "data": {
      "text/plain": [
       "RandomForestRegressor(max_depth=3, random_state=42)"
      ]
     },
     "execution_count": 18,
     "metadata": {},
     "output_type": "execute_result"
    }
   ],
   "source": [
    "rf_reg.fit(X_train, y_train)"
   ]
  },
  {
   "cell_type": "code",
   "execution_count": 19,
   "metadata": {},
   "outputs": [
    {
     "data": {
      "text/html": [
       "<div><div id=38d7b0a4-b7f6-43a7-a34e-99c545df943d style=\"display:none; background-color:#9D6CFF; color:white; width:200px; height:30px; padding-left:5px; border-radius:4px; flex-direction:row; justify-content:space-around; align-items:center;\" onmouseover=\"this.style.backgroundColor='#BA9BF8'\" onmouseout=\"this.style.backgroundColor='#9D6CFF'\" onclick=\"window.commands?.execute('create-mitosheet-from-dataframe-output');\">See Full Dataframe in Mito</div> <script> if (window.commands.hasCommand('create-mitosheet-from-dataframe-output')) document.getElementById('38d7b0a4-b7f6-43a7-a34e-99c545df943d').style.display = 'flex' </script> <table border=\"1\" class=\"dataframe\">\n",
       "  <thead>\n",
       "    <tr style=\"text-align: right;\">\n",
       "      <th></th>\n",
       "      <th>MAE</th>\n",
       "      <th>MSE</th>\n",
       "      <th>RMSE</th>\n",
       "      <th>R2</th>\n",
       "    </tr>\n",
       "  </thead>\n",
       "  <tbody>\n",
       "    <tr>\n",
       "      <th>0</th>\n",
       "      <td>0.389545</td>\n",
       "      <td>0.264735</td>\n",
       "      <td>0.514524</td>\n",
       "      <td>0.707099</td>\n",
       "    </tr>\n",
       "  </tbody>\n",
       "</table></div>"
      ],
      "text/plain": [
       "        MAE       MSE      RMSE        R2\n",
       "0  0.389545  0.264735  0.514524  0.707099"
      ]
     },
     "execution_count": 19,
     "metadata": {},
     "output_type": "execute_result"
    }
   ],
   "source": [
    "metricas_rf_reg = df_metrics_regression(rf_reg, X_test, y_test)\n",
    "metricas_rf_reg"
   ]
  },
  {
   "cell_type": "markdown",
   "metadata": {},
   "source": [
    "## Analisando os resultados dos modelos:"
   ]
  },
  {
   "cell_type": "code",
   "execution_count": 24,
   "metadata": {},
   "outputs": [
    {
     "data": {
      "text/html": [
       "<div><div id=6948461a-43bb-417a-92f8-ee713afeb525 style=\"display:none; background-color:#9D6CFF; color:white; width:200px; height:30px; padding-left:5px; border-radius:4px; flex-direction:row; justify-content:space-around; align-items:center;\" onmouseover=\"this.style.backgroundColor='#BA9BF8'\" onmouseout=\"this.style.backgroundColor='#9D6CFF'\" onclick=\"window.commands?.execute('create-mitosheet-from-dataframe-output');\">See Full Dataframe in Mito</div> <script> if (window.commands.hasCommand('create-mitosheet-from-dataframe-output')) document.getElementById('6948461a-43bb-417a-92f8-ee713afeb525').style.display = 'flex' </script> <table border=\"1\" class=\"dataframe\">\n",
       "  <thead>\n",
       "    <tr style=\"text-align: right;\">\n",
       "      <th></th>\n",
       "      <th>Linear Regression</th>\n",
       "      <th>Decision Tree</th>\n",
       "      <th>Random Forest</th>\n",
       "    </tr>\n",
       "  </thead>\n",
       "  <tbody>\n",
       "    <tr>\n",
       "      <th>MAE</th>\n",
       "      <td>0.315061</td>\n",
       "      <td>0.408237</td>\n",
       "      <td>0.389545</td>\n",
       "    </tr>\n",
       "    <tr>\n",
       "      <th>MSE</th>\n",
       "      <td>0.181675</td>\n",
       "      <td>0.287670</td>\n",
       "      <td>0.264735</td>\n",
       "    </tr>\n",
       "    <tr>\n",
       "      <th>RMSE</th>\n",
       "      <td>0.426233</td>\n",
       "      <td>0.536349</td>\n",
       "      <td>0.514524</td>\n",
       "    </tr>\n",
       "    <tr>\n",
       "      <th>R2</th>\n",
       "      <td>0.798996</td>\n",
       "      <td>0.681724</td>\n",
       "      <td>0.707099</td>\n",
       "    </tr>\n",
       "  </tbody>\n",
       "</table></div>"
      ],
      "text/plain": [
       "      Linear Regression  Decision Tree  Random Forest\n",
       "MAE            0.315061       0.408237       0.389545\n",
       "MSE            0.181675       0.287670       0.264735\n",
       "RMSE           0.426233       0.536349       0.514524\n",
       "R2             0.798996       0.681724       0.707099"
      ]
     },
     "execution_count": 24,
     "metadata": {},
     "output_type": "execute_result"
    }
   ],
   "source": [
    "metricas_modelos = pd.concat([metricas_reg_linear.T, metricas_dt_reg.T, metricas_rf_reg.T], axis=1)\n",
    "metricas_modelos.columns = ['Linear Regression', 'Decision Tree', 'Random Forest']\n",
    "metricas_modelos.head()"
   ]
  },
  {
   "cell_type": "markdown",
   "metadata": {},
   "source": [
    "Logo o modelo que apresentou melhor desempenho foi o modelo de regressão linear. "
   ]
  }
 ],
 "metadata": {
  "interpreter": {
   "hash": "c500cbb8e7d8b21f988729da27216438994fcf251b21651d2da847db7705ee99"
  },
  "kernelspec": {
   "display_name": "Python 3.8.13 ('machine_learning')",
   "language": "python",
   "name": "python3"
  },
  "language_info": {
   "codemirror_mode": {
    "name": "ipython",
    "version": 3
   },
   "file_extension": ".py",
   "mimetype": "text/x-python",
   "name": "python",
   "nbconvert_exporter": "python",
   "pygments_lexer": "ipython3",
   "version": "3.8.13"
  },
  "orig_nbformat": 4
 },
 "nbformat": 4,
 "nbformat_minor": 2
}
